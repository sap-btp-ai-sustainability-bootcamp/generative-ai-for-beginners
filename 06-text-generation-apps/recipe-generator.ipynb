{
 "cells": [
  {
   "cell_type": "code",
   "execution_count": 1,
   "id": "41591b31",
   "metadata": {},
   "outputs": [
    {
     "name": "stdout",
     "output_type": "stream",
     "text": [
      "{'__CFBundleIdentifier': 'com.apple.Terminal', 'TMPDIR': '/var/folders/7r/ybz255g54cs8yq9zhswm2qcw0000gn/T/', 'XPC_FLAGS': '0x0', 'TERM': 'xterm-color', 'SSH_AUTH_SOCK': '/private/tmp/com.apple.launchd.uzajjJKDrX/Listeners', 'XPC_SERVICE_NAME': '0', 'TERM_PROGRAM': 'Apple_Terminal', 'TERM_PROGRAM_VERSION': '452', 'TERM_SESSION_ID': '191D7B03-B704-4E0C-BFA3-6A76AA0EAD9A', 'SHELL': '/bin/zsh', 'HOME': '/Users/I559573', 'LOGNAME': 'I559573', 'USER': 'I559573', 'PATH': '/Library/Frameworks/Python.framework/Versions/3.10/bin:/usr/local/bin:/usr/bin:/bin:/usr/sbin:/sbin:/Users/I559573/Library/Python/3.8/bin:/opt/homebrew/bin:/var/run/com.apple.security.cryptexd/codex.system/bootstrap/usr/local/bin:/var/run/com.apple.security.cryptexd/codex.system/bootstrap/usr/bin:/var/run/com.apple.security.cryptexd/codex.system/bootstrap/usr/appleinternal/bin:/Library/Apple/usr/bin:/Applications/Privileges.app/Contents/Resources', 'SHLVL': '1', 'PWD': '/Users/I559573/Documents/GitHub/generative-ai-for-beginners', 'OLDPWD': '/Users/I559573/Documents/GitHub', 'LC_CTYPE': 'UTF-8', '_': '/Library/Frameworks/Python.framework/Versions/3.10/bin/jupyter', '__CF_USER_TEXT_ENCODING': '0x1F5:0x0:0x0', 'JPY_PARENT_PID': '66581', 'CLICOLOR': '1', 'PAGER': 'cat', 'GIT_PAGER': 'cat', 'MPLBACKEND': 'module://matplotlib_inline.backend_inline', 'AZURE_OPENAI_KEY': 'a756d3e7c1ad4dfbab117c70cf644f68', 'AZURE_OPENAI_ENDPOINT': 'https://openai-btp-sa.openai.azure.com', 'OPENAI_API_VERSION': '2023-05-15', 'OPENAI_API_TYPE': 'azure'}\n"
     ]
    }
   ],
   "source": [
    "import os\n",
    "import openai\n",
    "from dotenv import load_dotenv\n",
    "\n",
    "load_dotenv()\n",
    "\n",
    "# Get them\n",
    "ev = dict(os.environ)\n",
    "print(ev)\n",
    "\n",
    "openai.api_type = os.environ['OPENAI_API_TYPE']\n",
    "openai.api_version = os.environ['OPENAI_API_VERSION']\n",
    "openai.api_base = os.environ['AZURE_OPENAI_ENDPOINT'] \n",
    "openai.api_key = os.environ['AZURE_OPENAI_KEY']"
   ]
  },
  {
   "cell_type": "code",
   "execution_count": 2,
   "id": "044135c0",
   "metadata": {},
   "outputs": [],
   "source": [
    "from openai import AzureOpenAI\n",
    "\n",
    "client = AzureOpenAI(\n",
    "    azure_endpoint = os.environ['AZURE_OPENAI_ENDPOINT'], \n",
    "    api_key = os.environ['AZURE_OPENAI_KEY'],  \n",
    "    api_version = os.environ['OPENAI_API_VERSION']\n",
    ")"
   ]
  },
  {
   "cell_type": "code",
   "execution_count": 12,
   "id": "c9ee8597",
   "metadata": {},
   "outputs": [],
   "source": [
    "## Updated\n",
    "def get_completion(prompt, model=\"gpt-35-turbo\", max_tokens=1024):\n",
    "    messages = [{\"role\": \"user\", \"content\": prompt}]\n",
    "    response = openai.chat.completions.create(\n",
    "        model=model,\n",
    "        messages=messages,\n",
    "        temperature=0, # this is the degree of randomness of the model's output\n",
    "        max_tokens=max_tokens\n",
    "    )\n",
    "    return response"
   ]
  },
  {
   "cell_type": "code",
   "execution_count": 13,
   "id": "8a8c3bed",
   "metadata": {},
   "outputs": [
    {
     "name": "stdout",
     "output_type": "stream",
     "text": [
      "Recipe 1: Chicken Pot Pie\n",
      "Ingredients:\n",
      "- 2 cups cooked chicken, shredded\n",
      "- 2 cups potatoes, peeled and diced\n",
      "- 1 cup carrots, peeled and diced\n",
      "- 1 cup frozen peas\n",
      "- 1/2 cup onion, chopped\n",
      "- 2 cloves garlic, minced\n",
      "- 1/4 cup all-purpose flour\n",
      "- 2 cups chicken broth\n",
      "- 1/2 cup milk\n",
      "- 1 teaspoon dried thyme\n",
      "- 1 teaspoon dried parsley\n",
      "- Salt and pepper to taste\n",
      "- 2 sheets of puff pastry\n",
      "\n",
      "Recipe 2: Roasted Chicken with Potatoes and Carrots\n",
      "Ingredients:\n",
      "- 4 chicken thighs\n",
      "- 4 cups potatoes, peeled and quartered\n",
      "- 2 cups carrots, peeled and sliced\n",
      "- 1/4 cup olive oil\n",
      "- 4 cloves garlic, minced\n",
      "- 1 teaspoon dried rosemary\n",
      "- 1 teaspoon dried thyme\n",
      "- Salt and pepper to taste\n",
      "\n",
      "Recipe 3: Chicken and Potato Curry\n",
      "Ingredients:\n",
      "- 2 chicken breasts, cut into bite-sized pieces\n",
      "- 2 cups potatoes, peeled and diced\n",
      "- 1 cup carrots, peeled and sliced\n",
      "- 1 onion, chopped\n",
      "- 2 cloves garlic, minced\n",
      "- 1 can coconut milk\n",
      "- 2 tablespoons curry powder\n",
      "- 1 teaspoon turmeric\n",
      "- 1 teaspoon cumin\n",
      "- Salt and pepper to taste\n",
      "- Fresh cilantro for garnish\n",
      "\n",
      "Recipe 4: Chicken, Potato, and Carrot Stir-Fry\n",
      "Ingredients:\n",
      "- 2 chicken breasts, thinly sliced\n",
      "- 2 cups potatoes, peeled and julienned\n",
      "- 1 cup carrots, peeled and julienned\n",
      "- 1 bell pepper, thinly sliced\n",
      "- 1/2 cup soy sauce\n",
      "- 2 tablespoons honey\n",
      "- 2 tablespoons sesame oil\n",
      "- 2 cloves garlic, minced\n",
      "- 1 teaspoon ginger, grated\n",
      "- 1/4 teaspoon red pepper flakes (optional)\n",
      "- Sesame seeds for garnish\n",
      "\n",
      "Recipe 5: Chicken, Potato, and Carrot Soup\n",
      "Ingredients:\n",
      "- 2 chicken breasts, cooked and shredded\n",
      "- 2 cups potatoes, peeled and diced\n",
      "- 1 cup carrots, peeled and sliced\n",
      "- 1 onion, chopped\n",
      "- 2 cloves garlic, minced\n",
      "- 4 cups chicken broth\n",
      "- 1 cup milk\n",
      "- 1 teaspoon dried thyme\n",
      "- 1 teaspoon dried rosemary\n",
      "- Salt and pepper to taste\n",
      "- Fresh parsley for garnish\n"
     ]
    }
   ],
   "source": [
    "# add your completion code\n",
    "prompt = \"Show me 5 recipes for a dish with the following ingredients:\"+\\\n",
    "         \" chicken, potatoes, and carrots. Per recipe, list all the ingredients used\"\n",
    "\n",
    "completion = get_completion(model=\"gpt-35-turbo\", prompt=prompt, max_tokens=1024)\n",
    "\n",
    "# print response\n",
    "print(completion.choices[0].message.content)"
   ]
  },
  {
   "cell_type": "code",
   "execution_count": null,
   "id": "996414c5",
   "metadata": {},
   "outputs": [],
   "source": [
    "no_recipes = input(\"No of recipes (for example, 5: \")\n",
    "\n",
    "ingredients = input(\"List of ingredients (for example, chicken, potatoes, and carrots: \")\n",
    "\n",
    "filter = input(\"Filter (for example, vegetarian, vegan, or gluten-free: \")\n",
    "\n",
    "prompt = f\"Show me {no_recipes} recipes for a dish with the following ingredients: {ingredients}. Per recipe, list all the ingredients used, no {filter}\""
   ]
  },
  {
   "cell_type": "code",
   "execution_count": null,
   "id": "02eb3471",
   "metadata": {},
   "outputs": [],
   "source": [
    "completion = get_completion(model=\"gpt-35-turbo\", prompt=prompt, tokens=1024)\n",
    "\n",
    "# print response\n",
    "print(completion.choices[0].message.content)\n",
    "old_prompt_result = completion.choices[0].message.content"
   ]
  },
  {
   "cell_type": "code",
   "execution_count": null,
   "id": "a58a39b3",
   "metadata": {},
   "outputs": [],
   "source": [
    "prompt = \"Produce a shopping list for the generated recipes and please don't include\"+\\\n",
    "         \"ingredients that I already have.\"\n",
    "\n",
    "new_prompt = f\"{old_prompt_result} {prompt}\"\n",
    "completion = get_completion(model=\"gpt-35-turbo\", prompt=new_prompt, tokens=120)\n",
    "\n",
    "# print response\n",
    "print(completion.choices[0].message.content)"
   ]
  },
  {
   "cell_type": "code",
   "execution_count": null,
   "id": "b8e1bdb1",
   "metadata": {},
   "outputs": [],
   "source": []
  }
 ],
 "metadata": {
  "kernelspec": {
   "display_name": "Python 3 (ipykernel)",
   "language": "python",
   "name": "python3"
  },
  "language_info": {
   "codemirror_mode": {
    "name": "ipython",
    "version": 3
   },
   "file_extension": ".py",
   "mimetype": "text/x-python",
   "name": "python",
   "nbconvert_exporter": "python",
   "pygments_lexer": "ipython3",
   "version": "3.10.4"
  }
 },
 "nbformat": 4,
 "nbformat_minor": 5
}
