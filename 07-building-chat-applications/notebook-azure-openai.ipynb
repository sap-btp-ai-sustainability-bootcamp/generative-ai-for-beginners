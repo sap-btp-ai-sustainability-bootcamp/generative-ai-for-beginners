{
 "cells": [
  {
   "cell_type": "markdown",
   "metadata": {
    "nteract": {
     "transient": {
      "deleting": false
     }
    }
   },
   "source": [
    "# Chapter 7: Building Chat Applications\n",
    "## Azure OpenAI API Quickstart"
   ]
  },
  {
   "cell_type": "markdown",
   "metadata": {
    "nteract": {
     "transient": {
      "deleting": false
     }
    }
   },
   "source": [
    "## Overview\n",
    "This notebook is adapted from the [Azure OpenAI Samples Repository](https://github.com/Azure/azure-openai-samples?WT.mc_id=academic-105485-koreyst) that includes notebooks that also access the [OpenAI](notebook-openai.ipynb) service.\n",
    "\n",
    "The Python OpenAI API works with Azure OpenAI as well, with a few modifications. Learn more about the differences here: [How to switch between OpenAI and Azure OpenAI endpoints with Python](https://learn.microsoft.com/azure/ai-services/openai/how-to/switching-endpoints?WT.mc_id=academic-109527-jasmineg)\n",
    "\n",
    "For more quickstart examples please refer to the official Azure Open AI Quickstart Documentation https://learn.microsoft.com/azure/cognitive-services/openai/quickstart?pivots=programming-language-studio&WT.mc_id=academic-105485-koreyst"
   ]
  },
  {
   "cell_type": "markdown",
   "metadata": {
    "nteract": {
     "transient": {
      "deleting": false
     }
    }
   },
   "source": [
    "## Table of Contents  \n",
    "\n",
    "[Overview](#overview)  \n",
    "[Getting started with Azure OpenAI Service](#getting-started-with-azure-openai-service)  \n",
    "[Build your first prompt](#build-your-first-prompt)  \n",
    "\n",
    "[Use Cases](#use-cases)    \n",
    "[1. Summarize Text](#summarize-text)  \n",
    "[2. Classify Text](#classify-text)  \n",
    "[3. Generate New Product Names](#generate-new-product-names)  \n",
    "[4. Fine Tune a Classifier](#fine-tune-a-classifier)  \n",
    "[5. Embeddings](#embeddings)\n",
    "\n",
    "[References](#references)"
   ]
  },
  {
   "cell_type": "markdown",
   "metadata": {
    "nteract": {
     "transient": {
      "deleting": false
     }
    }
   },
   "source": [
    "### Getting started with Azure OpenAI Service\n",
    "\n",
    "New customers will need to [apply for access](https://aka.ms/oai/access?WT.mc_id=academic-105485-koreyst) to Azure OpenAI Service.  \n",
    "After approval is complete, customers can log into the Azure portal, create an Azure OpenAI Service resource, and start experimenting with models via the studio  \n",
    "\n",
    "[Great resource for getting started quickly](https://techcommunity.microsoft.com/t5/educator-developer-blog/azure-openai-is-now-generally-available/ba-p/3719177?WT.mc_id=academic-105485-koreyst)\n"
   ]
  },
  {
   "cell_type": "markdown",
   "metadata": {
    "nteract": {
     "transient": {
      "deleting": false
     }
    }
   },
   "source": [
    "### Build your first prompt  \n",
    "This short exercise will provide a basic introduction for submitting prompts to an OpenAI model for a simple task \"summarization\".  \n",
    "\n",
    "![](images/generative-AI-models-reduced.jpg)  \n",
    "\n",
    "\n",
    "**Steps**:  \n",
    "1. Install OpenAI library in your python environment  \n",
    "2. Load standard helper libraries and set your typical OpenAI security credentials for the OpenAI Service that you've created  \n",
    "3. Choose a model for your task  \n",
    "4. Create a simple prompt for the model  \n",
    "5. Submit your request to the model API!"
   ]
  },
  {
   "cell_type": "markdown",
   "metadata": {
    "nteract": {
     "transient": {
      "deleting": false
     }
    }
   },
   "source": [
    "### 1. Install OpenAI"
   ]
  },
  {
   "cell_type": "code",
   "execution_count": null,
   "metadata": {
    "gather": {
     "logged": 1674254990318
    },
    "jupyter": {
     "outputs_hidden": true,
     "source_hidden": false
    },
    "nteract": {
     "transient": {
      "deleting": false
     }
    }
   },
   "outputs": [],
   "source": [
    "pip install openai python-dotenv"
   ]
  },
  {
   "cell_type": "markdown",
   "metadata": {
    "nteract": {
     "transient": {
      "deleting": false
     }
    }
   },
   "source": [
    "### 2. Import helper libraries and instantiate credentials"
   ]
  },
  {
   "cell_type": "code",
   "execution_count": 2,
   "metadata": {
    "gather": {
     "logged": 1674829434433
    },
    "jupyter": {
     "outputs_hidden": false,
     "source_hidden": false
    },
    "nteract": {
     "transient": {
      "deleting": false
     }
    }
   },
   "outputs": [
    {
     "name": "stdout",
     "output_type": "stream",
     "text": [
      "{'__CFBundleIdentifier': 'com.apple.Terminal', 'TMPDIR': '/var/folders/7r/ybz255g54cs8yq9zhswm2qcw0000gn/T/', 'XPC_FLAGS': '0x0', 'TERM': 'xterm-color', 'SSH_AUTH_SOCK': '/private/tmp/com.apple.launchd.uzajjJKDrX/Listeners', 'XPC_SERVICE_NAME': '0', 'TERM_PROGRAM': 'Apple_Terminal', 'TERM_PROGRAM_VERSION': '452', 'TERM_SESSION_ID': '191D7B03-B704-4E0C-BFA3-6A76AA0EAD9A', 'SHELL': '/bin/zsh', 'HOME': '/Users/I559573', 'LOGNAME': 'I559573', 'USER': 'I559573', 'PATH': '/Library/Frameworks/Python.framework/Versions/3.10/bin:/usr/local/bin:/usr/bin:/bin:/usr/sbin:/sbin:/Users/I559573/Library/Python/3.8/bin:/opt/homebrew/bin:/var/run/com.apple.security.cryptexd/codex.system/bootstrap/usr/local/bin:/var/run/com.apple.security.cryptexd/codex.system/bootstrap/usr/bin:/var/run/com.apple.security.cryptexd/codex.system/bootstrap/usr/appleinternal/bin:/Library/Apple/usr/bin:/Applications/Privileges.app/Contents/Resources', 'SHLVL': '1', 'PWD': '/Users/I559573/Documents/GitHub/generative-ai-for-beginners', 'OLDPWD': '/Users/I559573/Documents/GitHub', 'LC_CTYPE': 'UTF-8', '_': '/Library/Frameworks/Python.framework/Versions/3.10/bin/jupyter', '__CF_USER_TEXT_ENCODING': '0x1F5:0x0:0x0', 'JPY_PARENT_PID': '66581', 'CLICOLOR': '1', 'PAGER': 'cat', 'GIT_PAGER': 'cat', 'MPLBACKEND': 'module://matplotlib_inline.backend_inline', 'AZURE_OPENAI_KEY': 'a756d3e7c1ad4dfbab117c70cf644f68', 'AZURE_OPENAI_ENDPOINT': 'https://openai-btp-sa.openai.azure.com', 'OPENAI_API_VERSION': '2023-05-15', 'OPENAI_API_TYPE': 'azure'}\n"
     ]
    }
   ],
   "source": [
    "import os\n",
    "import openai\n",
    "from dotenv import load_dotenv\n",
    "load_dotenv()\n",
    "ev = dict(os.environ)\n",
    "print(ev)\n",
    "\n",
    "openai.api_type = \"azure\"\n",
    "openai.api_version = os.getenv(\"OPENAI_API_VERSION\",\"\").strip()\n",
    "\n",
    "API_KEY = os.getenv(\"AZURE_OPENAI_KEY\",\"\").strip()\n",
    "assert API_KEY, \"ERROR: Azure OpenAI Key is missing\"\n",
    "openai.api_key = API_KEY\n",
    "\n",
    "RESOURCE_ENDPOINT = os.getenv(\"AZURE_OPENAI_ENDPOINT\",\"\").strip()\n",
    "assert RESOURCE_ENDPOINT, \"ERROR: Azure OpenAI Endpoint is missing\"\n",
    "assert \"openai.azure.com\" in RESOURCE_ENDPOINT.lower(), \"ERROR: Azure OpenAI Endpoint should be in the form: \\n\\n\\t<your unique endpoint identifier>.openai.azure.com\"\n",
    "openai.api_base = RESOURCE_ENDPOINT"
   ]
  },
  {
   "cell_type": "markdown",
   "metadata": {
    "nteract": {
     "transient": {
      "deleting": false
     }
    }
   },
   "source": [
    "### 3. Finding the right model  \n",
    "The GPT-3.5-turbo or GPT-4 models can understand and generate natural language. The service offers four model capabilities, each with different levels of power and speed suitable for different tasks. \n",
    "\n",
    "[Azure OpenAI models](https://learn.microsoft.com/azure/cognitive-services/openai/concepts/models?WT.mc_id=academic-105485-koreyst)  \n",
    "![](images/a-b-c-d-models-reduced.jpg)  \n"
   ]
  },
  {
   "cell_type": "code",
   "execution_count": 3,
   "metadata": {
    "gather": {
     "logged": 1674742720788
    },
    "jupyter": {
     "outputs_hidden": true,
     "source_hidden": false
    },
    "nteract": {
     "transient": {
      "deleting": false
     }
    }
   },
   "outputs": [],
   "source": [
    "# Select the General Purpose curie model for text\n",
    "model = \"gpt-35-turbo\""
   ]
  },
  {
   "cell_type": "markdown",
   "metadata": {
    "nteract": {
     "transient": {
      "deleting": false
     }
    }
   },
   "source": [
    "## 4. Prompt Design  \n",
    "\n",
    "\"The magic of large language models is that by being trained to minimize this prediction error over vast quantities of text, the models end up learning concepts useful for these predictions. For example, they learn concepts like\"(1):\n",
    "\n",
    "* how to spell\n",
    "* how grammar works\n",
    "* how to paraphrase\n",
    "* how to answer questions\n",
    "* how to hold a conversation\n",
    "* how to write in many languages\n",
    "* how to code\n",
    "* etc.\n",
    "\n",
    "#### How to control a large language model  \n",
    "\"Of all the inputs to a large language model, by far the most influential is the text prompt(1).\n",
    "\n",
    "Large language models can be prompted to produce output in a few ways:\n",
    "\n",
    "Instruction: Tell the model what you want\n",
    "Completion: Induce the model to complete the beginning of what you want\n",
    "Demonstration: Show the model what you want, with either:\n",
    "A few examples in the prompt\n",
    "Many hundreds or thousands of examples in a fine-tuning training dataset\"\n",
    "\n",
    "\n",
    "\n",
    "#### There are three basic guidelines to creating prompts:\n",
    "\n",
    "**Show and tell**. Make it clear what you want either through instructions, examples, or a combination of the two. If you want the model to rank a list of items in alphabetical order or to classify a paragraph by sentiment, show it that's what you want.\n",
    "\n",
    "**Provide quality data**. If you're trying to build a classifier or get the model to follow a pattern, make sure that there are enough examples. Be sure to proofread your examples — the model is usually smart enough to see through basic spelling mistakes and give you a response, but it also might assume this is intentional and it can affect the response.\n",
    "\n",
    "**Check your settings.** The temperature and top_p settings control how deterministic the model is in generating a response. If you're asking it for a response where there's only one right answer, then you'd want to set these lower. If you're looking for more diverse responses, then you might want to set them higher. The number one mistake people make with these settings is assuming that they're \"cleverness\" or \"creativity\" controls.\n",
    "\n",
    "\n",
    "Source: https://github.com/Azure/OpenAI/blob/main/How%20to/Completions.md"
   ]
  },
  {
   "cell_type": "markdown",
   "metadata": {
    "nteract": {
     "transient": {
      "deleting": false
     }
    }
   },
   "source": [
    "![](images/prompt_design.jpg)\n",
    "image is creating your first text prompt!"
   ]
  },
  {
   "cell_type": "markdown",
   "metadata": {
    "nteract": {
     "transient": {
      "deleting": false
     }
    }
   },
   "source": [
    "### 5. Submit!"
   ]
  },
  {
   "cell_type": "code",
   "execution_count": 8,
   "metadata": {
    "gather": {
     "logged": 1674494935186
    },
    "jupyter": {
     "outputs_hidden": false,
     "source_hidden": false
    },
    "nteract": {
     "transient": {
      "deleting": false
     }
    }
   },
   "outputs": [
    {
     "name": "stdout",
     "output_type": "stream",
     "text": [
      "The use of Oxford commas, also known as serial commas, is a matter of style and preference. Some style guides, such as the Chicago Manual of Style, recommend the use of Oxford commas, while others, like the AP Stylebook, suggest omitting them in certain situations. \n",
      "Using an Oxford comma can help clarify the meaning of a sentence, especially when there are multiple items in a list, but its use is not always necessary. It ultimately depends on the specific style guide you are following or the preferences of the organization or publication you are writing for.\n"
     ]
    }
   ],
   "source": [
    "# Create your first prompt\n",
    "text_prompt = \"Should oxford commas always be used?\"\n",
    "\n",
    "response = openai.chat.completions.create(\n",
    "  model=model,\n",
    "  messages = [{\"role\":\"system\", \"content\":\"You are a helpful assistant.\"},\n",
    "               {\"role\":\"user\",\"content\":text_prompt},])\n",
    "\n",
    "print(response.choices[0].message.content)"
   ]
  },
  {
   "cell_type": "markdown",
   "metadata": {
    "nteract": {
     "transient": {
      "deleting": false
     }
    }
   },
   "source": [
    "### Repeat the same call, how do the results compare?"
   ]
  },
  {
   "cell_type": "code",
   "execution_count": 10,
   "metadata": {
    "gather": {
     "logged": 1674494940872
    },
    "jupyter": {
     "outputs_hidden": false,
     "source_hidden": false
    },
    "nteract": {
     "transient": {
      "deleting": false
     }
    }
   },
   "outputs": [
    {
     "name": "stdout",
     "output_type": "stream",
     "text": [
      "The use of Oxford commas, also known as serial commas, is a matter of style and preference. Some style guides, such as the Associated Press (AP) Stylebook, do not recommend using Oxford commas except when necessary for clarity. On the other hand, other style guides, such as The Chicago Manual of Style, recommend the consistent use of Oxford commas. Ultimately, it is important to follow the guidelines of the style guide you are using or be consistent with your usage throughout a document.\n"
     ]
    }
   ],
   "source": [
    "response = openai.chat.completions.create(\n",
    "  model=\"gpt-35-turbo\",\n",
    "  messages = [{\"role\":\"system\", \"content\":\"You are a helpful assistant.\"},\n",
    "               {\"role\":\"user\",\"content\":text_prompt},])\n",
    "\n",
    "print(response.choices[0].message.content)"
   ]
  },
  {
   "cell_type": "markdown",
   "metadata": {
    "nteract": {
     "transient": {
      "deleting": false
     }
    }
   },
   "source": [
    "## Summarize Text  \n",
    "#### Challenge  \n",
    "Summarize text by adding a 'tl;dr:' to the end of a text passage. Notice how the model understands how to perform a number of tasks with no additional instructions. You can experiment with more descriptive prompts than tl;dr to modify the model’s behavior and customize the summarization you receive(3).  \n",
    "\n",
    "Recent work has demonstrated substantial gains on many NLP tasks and benchmarks by pre-training on a large corpus of text followed by fine-tuning on a specific task. While typically task-agnostic in architecture, this method still requires task-specific fine-tuning datasets of thousands or tens of thousands of examples. By contrast, humans can generally perform a new language task from only a few examples or from simple instructions - something that current NLP systems still largely struggle to do. Here we show that scaling up language models greatly improves task-agnostic, few-shot performance, sometimes even reaching competitiveness with prior state-of-the-art fine-tuning approaches. \n",
    "\n",
    "\n",
    "\n",
    "Tl;dr"
   ]
  },
  {
   "cell_type": "markdown",
   "metadata": {
    "nteract": {
     "transient": {
      "deleting": false
     }
    }
   },
   "source": [
    "# Exercises for several use cases  \n",
    "1. Summarize Text  \n",
    "2. Classify Text  \n",
    "3. Generate New Product Names\n",
    "4. Embeddings\n",
    "5. Fine tune a classifier"
   ]
  },
  {
   "cell_type": "code",
   "execution_count": 11,
   "metadata": {
    "gather": {
     "logged": 1674495198534
    },
    "jupyter": {
     "outputs_hidden": false,
     "source_hidden": false
    },
    "nteract": {
     "transient": {
      "deleting": false
     }
    }
   },
   "outputs": [],
   "source": [
    "prompt = \"Recent work has demonstrated substantial gains on many NLP tasks and benchmarks by pre-training on a large corpus of text followed by fine-tuning on a specific task. While typically task-agnostic in architecture, this method still requires task-specific fine-tuning datasets of thousands or tens of thousands of examples. By contrast, humans can generally perform a new language task from only a few examples or from simple instructions - something that current NLP systems still largely struggle to do. Here we show that scaling up language models greatly improves task-agnostic, few-shot performance, sometimes even reaching competitiveness with prior state-of-the-art fine-tuning approaches.\\n\\nTl;dr\"\n"
   ]
  },
  {
   "cell_type": "code",
   "execution_count": 13,
   "metadata": {
    "gather": {
     "logged": 1674495201868
    },
    "jupyter": {
     "outputs_hidden": false,
     "source_hidden": false
    },
    "nteract": {
     "transient": {
      "deleting": false
     }
    }
   },
   "outputs": [
    {
     "name": "stdout",
     "output_type": "stream",
     "text": [
      "Recent work in NLP has shown that pre-training models on a large amount of text and then fine-tuning them on specific tasks leads to significant improvements. However, this method still requires thousands or tens of thousands of task-specific examples. In contrast, humans can perform new language tasks with just a few examples or instructions, which is challenging for current NLP systems. Scaling up language models can greatly enhance few-shot performance, often achieving similar performance as previous fine-tuning approaches.\n"
     ]
    }
   ],
   "source": [
    "#Setting a few additional, typical parameters during API Call\n",
    "\n",
    "response = openai.chat.completions.create(\n",
    "  model=\"gpt-35-turbo\",\n",
    "  messages = [{\"role\":\"system\", \"content\":\"You are a helpful assistant.\"},\n",
    "               {\"role\":\"user\",\"content\":prompt},])\n",
    "\n",
    "print(response.choices[0].message.content)"
   ]
  },
  {
   "cell_type": "markdown",
   "metadata": {
    "nteract": {
     "transient": {
      "deleting": false
     }
    }
   },
   "source": [
    "## Classify Text  \n",
    "#### Challenge  \n",
    "Classify items into categories provided at inference time. In the following example, we provide both the categories and the text to classify in the prompt(*playground_reference). \n",
    "\n",
    "Customer Inquiry: Hello, one of the keys on my laptop keyboard broke recently and I'll need a replacement:\n",
    "\n",
    "Classified category:\n"
   ]
  },
  {
   "cell_type": "code",
   "execution_count": 14,
   "metadata": {
    "gather": {
     "logged": 1674499424645
    },
    "jupyter": {
     "outputs_hidden": false,
     "source_hidden": false
    },
    "nteract": {
     "transient": {
      "deleting": false
     }
    }
   },
   "outputs": [
    {
     "name": "stdout",
     "output_type": "stream",
     "text": [
      "Classify the following inquiry into one of the following: categories: [Pricing, Hardware Support, Software Support]\n",
      "\n",
      "inquiry: Hello, one of the keys on my laptop keyboard broke recently and I'll need a replacement:\n",
      "\n",
      "Classified category:\n"
     ]
    }
   ],
   "source": [
    "prompt = \"Classify the following inquiry into one of the following: categories: [Pricing, Hardware Support, Software Support]\\n\\ninquiry: Hello, one of the keys on my laptop keyboard broke recently and I'll need a replacement:\\n\\nClassified category:\"\n",
    "print(prompt)"
   ]
  },
  {
   "cell_type": "code",
   "execution_count": 16,
   "metadata": {
    "gather": {
     "logged": 1674499378518
    },
    "jupyter": {
     "outputs_hidden": false,
     "source_hidden": false
    },
    "nteract": {
     "transient": {
      "deleting": false
     }
    }
   },
   "outputs": [
    {
     "name": "stdout",
     "output_type": "stream",
     "text": [
      "Hardware Support\n"
     ]
    }
   ],
   "source": [
    "#Setting a few additional, typical parameters during API Call\n",
    "\n",
    "response = openai.chat.completions.create(\n",
    "  model=\"gpt-35-turbo\",\n",
    "  messages = [{\"role\":\"system\", \"content\":\"You are a helpful assistant.\"},\n",
    "               {\"role\":\"user\",\"content\":prompt},])\n",
    "\n",
    "print(response.choices[0].message.content)"
   ]
  },
  {
   "cell_type": "markdown",
   "metadata": {
    "nteract": {
     "transient": {
      "deleting": false
     }
    }
   },
   "source": [
    "## Generate New Product Names\n",
    "#### Challenge\n",
    "Create product names from examples words. Here we include in the prompt information about the product we are going to generate names for. We also provide a similar example to show the pattern we wish to receive. We have also set the temperature value high to increase randomness and more innovative responses.\n",
    "\n",
    "Product description: A home milkshake maker\n",
    "Seed words: fast, healthy, compact.\n",
    "Product names: HomeShaker, Fit Shaker, QuickShake, Shake Maker\n",
    "\n",
    "Product description: A pair of shoes that can fit any foot size.\n",
    "Seed words: adaptable, fit, omni-fit."
   ]
  },
  {
   "cell_type": "code",
   "execution_count": 17,
   "metadata": {
    "gather": {
     "logged": 1674257087279
    },
    "jupyter": {
     "outputs_hidden": false,
     "source_hidden": false
    },
    "nteract": {
     "transient": {
      "deleting": false
     }
    }
   },
   "outputs": [
    {
     "name": "stdout",
     "output_type": "stream",
     "text": [
      "Product description: A home milkshake maker\n",
      "Seed words: fast, healthy, compact.\n",
      "Product names: HomeShaker, Fit Shaker, QuickShake, Shake Maker\n",
      "\n",
      "Product description: A pair of shoes that can fit any foot size.\n",
      "Seed words: adaptable, fit, omni-fit.\n"
     ]
    }
   ],
   "source": [
    "prompt = \"Product description: A home milkshake maker\\nSeed words: fast, healthy, compact.\\nProduct names: HomeShaker, Fit Shaker, QuickShake, Shake Maker\\n\\nProduct description: A pair of shoes that can fit any foot size.\\nSeed words: adaptable, fit, omni-fit.\"\n",
    "\n",
    "print(prompt)"
   ]
  },
  {
   "cell_type": "code",
   "execution_count": 20,
   "metadata": {
    "jupyter": {
     "outputs_hidden": false,
     "source_hidden": false
    },
    "nteract": {
     "transient": {
      "deleting": false
     }
    }
   },
   "outputs": [
    {
     "name": "stdout",
     "output_type": "stream",
     "text": [
      "Product names: FlexFit, OmniShoes, AdaptSole, FitAll\n"
     ]
    }
   ],
   "source": [
    "#Setting a few additional, typical parameters during API Call\n",
    "\n",
    "response = openai.chat.completions.create(\n",
    "  model=\"gpt-35-turbo\",\n",
    "  messages = [{\"role\":\"system\", \"content\":\"You are a helpful assistant.\"},\n",
    "               {\"role\":\"user\",\"content\":prompt},]\n",
    ")\n",
    "\n",
    "print(response.choices[0].message.content)"
   ]
  },
  {
   "cell_type": "markdown",
   "metadata": {
    "nteract": {
     "transient": {
      "deleting": false
     }
    }
   },
   "source": [
    "## Embeddings\n",
    "This section will show how to retrieve embeddings, and find similarities between words, sentences, and documents"
   ]
  },
  {
   "cell_type": "markdown",
   "metadata": {
    "nteract": {
     "transient": {
      "deleting": false
     }
    }
   },
   "source": [
    "### Model Taxonomy - Choosing a similarity model\n",
    "Let's choose a similarity model, using the  most powerful model (davinci)\n",
    "\n",
    "**Model taxonomy**: {family} - {capability} - {input-type} - {identifier}  \n",
    "\n",
    "{family}     --> text-similarity  (general text GPT-3 model)  \n",
    "{capability} --> davincie         (curie is second most powerful in ada-babbage-curie-davinci family)  \n",
    "{input-type} --> n/a              (only specified for search models)  \n",
    "{identifier} --> 001              (version 001)  \n",
    "\n",
    "model = 'text-similarity-davinci-001'"
   ]
  },
  {
   "cell_type": "code",
   "execution_count": 23,
   "metadata": {},
   "outputs": [
    {
     "name": "stdout",
     "output_type": "stream",
     "text": [
      "Requirement already satisfied: matplotlib in /Library/Frameworks/Python.framework/Versions/3.10/lib/python3.10/site-packages (3.6.0)\n",
      "Requirement already satisfied: plotly in /Users/I559573/Library/Python/3.10/lib/python/site-packages (5.16.1)\n",
      "Requirement already satisfied: scikit-learn in /Library/Frameworks/Python.framework/Versions/3.10/lib/python3.10/site-packages (1.3.0)\n",
      "Requirement already satisfied: pandas in /Library/Frameworks/Python.framework/Versions/3.10/lib/python3.10/site-packages (1.5.0)\n",
      "Requirement already satisfied: contourpy>=1.0.1 in /Library/Frameworks/Python.framework/Versions/3.10/lib/python3.10/site-packages (from matplotlib) (1.0.5)\n",
      "Requirement already satisfied: cycler>=0.10 in /Library/Frameworks/Python.framework/Versions/3.10/lib/python3.10/site-packages (from matplotlib) (0.11.0)\n",
      "Requirement already satisfied: fonttools>=4.22.0 in /Library/Frameworks/Python.framework/Versions/3.10/lib/python3.10/site-packages (from matplotlib) (4.37.3)\n",
      "Requirement already satisfied: kiwisolver>=1.0.1 in /Library/Frameworks/Python.framework/Versions/3.10/lib/python3.10/site-packages (from matplotlib) (1.4.4)\n",
      "Requirement already satisfied: numpy>=1.19 in /Library/Frameworks/Python.framework/Versions/3.10/lib/python3.10/site-packages (from matplotlib) (1.23.3)\n",
      "Requirement already satisfied: packaging>=20.0 in /Library/Frameworks/Python.framework/Versions/3.10/lib/python3.10/site-packages (from matplotlib) (21.3)\n",
      "Requirement already satisfied: pillow>=6.2.0 in /Library/Frameworks/Python.framework/Versions/3.10/lib/python3.10/site-packages (from matplotlib) (9.2.0)\n",
      "Requirement already satisfied: pyparsing>=2.2.1 in /Library/Frameworks/Python.framework/Versions/3.10/lib/python3.10/site-packages (from matplotlib) (3.0.9)\n",
      "Requirement already satisfied: python-dateutil>=2.7 in /Library/Frameworks/Python.framework/Versions/3.10/lib/python3.10/site-packages (from matplotlib) (2.8.2)\n",
      "Requirement already satisfied: tenacity>=6.2.0 in /Users/I559573/Library/Python/3.10/lib/python/site-packages (from plotly) (8.2.3)\n",
      "Requirement already satisfied: scipy>=1.5.0 in /Library/Frameworks/Python.framework/Versions/3.10/lib/python3.10/site-packages (from scikit-learn) (1.11.2)\n",
      "Requirement already satisfied: joblib>=1.1.1 in /Library/Frameworks/Python.framework/Versions/3.10/lib/python3.10/site-packages (from scikit-learn) (1.3.2)\n",
      "Requirement already satisfied: threadpoolctl>=2.0.0 in /Library/Frameworks/Python.framework/Versions/3.10/lib/python3.10/site-packages (from scikit-learn) (3.2.0)\n",
      "Requirement already satisfied: pytz>=2020.1 in /Library/Frameworks/Python.framework/Versions/3.10/lib/python3.10/site-packages (from pandas) (2022.4)\n",
      "Requirement already satisfied: six>=1.5 in /Library/Frameworks/Python.framework/Versions/3.10/lib/python3.10/site-packages (from python-dateutil>=2.7->matplotlib) (1.16.0)\n"
     ]
    }
   ],
   "source": [
    "# Dependencies for embeddings_utils\n",
    "!pip install matplotlib plotly scikit-learn pandas"
   ]
  },
  {
   "cell_type": "code",
   "execution_count": null,
   "metadata": {
    "gather": {
     "logged": 1674829364153
    },
    "jupyter": {
     "outputs_hidden": false,
     "source_hidden": false
    },
    "nteract": {
     "transient": {
      "deleting": false
     }
    }
   },
   "outputs": [],
   "source": [
    "import openai\n",
    "from openai.embeddings_utils import cosine_similarity"
   ]
  },
  {
   "cell_type": "code",
   "execution_count": 34,
   "metadata": {
    "gather": {
     "logged": 1674829424097
    },
    "jupyter": {
     "outputs_hidden": false,
     "source_hidden": false
    },
    "nteract": {
     "transient": {
      "deleting": false
     }
    }
   },
   "outputs": [
    {
     "name": "stdout",
     "output_type": "stream",
     "text": [
      "[-0.0044746567, 0.009786528, -0.014904951, -0.0064249854, -0.011353132, 0.015513834, -0.023721071, -0.016414473, -0.015818276, -0.029632311, 0.021298224, 0.021095263, 0.018570933, 0.0041702148, -0.0007155169, -0.007579326, 0.025217908, -0.0042146128, 0.011175542, -0.008587789, -0.009513798, 0.021577295, -0.005993693, -0.008257977, 0.006041262, 0.013040246, 0.0074397903, -0.003516934, -0.008955656, 0.0011939817, 0.0066660014, 0.0038657733, -0.03927296, -0.0025592118, -0.012761175, -0.0217422, -0.00370721, -0.010458835, 0.025979012, -0.045691602, 0.009399633, 0.01565337, -0.02261747, -0.011619519, -0.0028573107, 0.012215717, 0.010534946, -0.012532843, -0.022896541, 0.010363698, -0.0002695576, 0.0065835486, -0.009919721, -0.011625862, -0.004718844, -0.0072368295, -0.0013802936, -0.0062505654, 0.009380605, -0.0057621906, 0.010782305, 0.013547649, -0.005140622, -0.0056321686, 0.0007163097, -0.009399633, 0.011105774, -0.010534946, -0.013052931, -0.004890092, 0.029353239, -0.001888489, 0.00033754163, 0.0059968643, 0.03153507, -0.008784407, -0.02745048, 0.00896834, 0.014499028, 0.011594149, 0.029733792, -0.041886084, -0.006066632, 0.014460973, 0.017403908, 0.0025449411, -0.02585216, 0.03785223, -0.017036041, 0.011093088, 0.0056448537, 0.030748596, 0.008105756, -0.005527517, -0.017239003, 0.0063901013, -0.00086575566, 0.019230558, -0.0100465715, -0.02585216, 0.0070402105, -0.011714657, -0.027171409, -0.0031125976, 0.006856277, -0.026790855, -0.0054926327, 0.022262288, 0.018063532, -0.014219957, 0.016338363, 0.023416629, 0.018203067, -0.039704252, -0.004090933, -0.011308735, 0.009659677, -0.009444031, -0.00926644, -0.008651214, 0.009380605, 0.01765761, 0.022363769, -0.0024339468, -0.013978941, -0.0095201405, -0.003897486, 0.007141691, -0.011308735, 0.003694525, 0.032499135, 0.023708386, 0.032905057, -0.012437706, -0.03706576, 0.0236957, 0.00513428, -0.011200912, -0.030241193, -0.02241451, -0.0015872187, 0.016414473, -0.006577206, 0.008727324, 0.022452565, 0.024088938, 0.021551924, 0.008708296, -0.0020581516, -0.007090951, 0.018177697, -0.002329295, 0.029860642, 0.00038570524, 0.009621621, 0.015640685, 0.0038752872, 0.014435603, -0.027932512, -0.021628035, 0.023683015, 0.022008587, -0.000421382, -0.008137469, 0.0021199915, 0.031154519, 0.0332095, 0.0027447308, 0.008035989, -0.010604714, 0.0051025674, 0.03298117, -0.011759055, 0.03754779, 0.0020185108, 0.006868962, 0.021704145, -0.007858397, -0.032067843, 0.0015911828, 0.0040497067, 0.014219957, 0.038816296, 0.024050882, 0.0052040475, 0.022541359, 0.005651196, -0.0276027, -0.0073446524, -0.0013327246, 0.0087336665, 0.0020835218, -0.018799266, -0.013712554, -0.6864142, -0.029860642, 0.004097276, -0.0108330455, 0.021602664, 0.03353931, -0.01232354, -0.010446151, -0.00034368597, 0.03544207, -0.030520266, 0.0021976875, 0.0046871314, -0.0027272888, -0.009824582, -0.0033393432, 0.027196778, -0.02297265, -0.007959878, 0.020854246, 0.004791783, 0.006983128, -0.010978923, 0.0017330969, -0.00513428, 0.01129605, -0.0020407098, 0.0053499257, -0.0012360009, 0.016972616, -0.0020359529, 0.018875375, -0.0064884103, 0.0054418924, 0.042621817, 0.00448417, -0.005946124, 0.020600544, 0.039780363, 0.05337875, -0.035594292, -0.013623759, 0.014587824, 0.008930285, -0.011511696, 0.0011789182, 0.02547161, 0.017162893, -0.005587771, -0.015666055, 0.013573019, 0.01778446, 0.016351048, 0.0051215948, -0.018101586, 0.027044557, 0.010972581, -0.0004316886, -0.0017441964, -0.0023832065, -0.010560316, 0.0014667106, -0.01034467, 0.008676584, -0.022579415, 0.0035232767, -0.0070465533, 0.0102875875, 0.022097383, -0.014321438, 0.022845801, 0.01986481, -0.010553974, 0.010097311, 0.014638565, 0.010801332, 0.009279124, -0.0065645208, -0.011581464, 0.00643767, -0.012158634, -0.0026115377, -0.03927296, -0.0015031801, 0.0356704, 0.017200947, -0.035112258, -0.0064027864, -0.0050898823, -0.024152363, 0.016845766, 0.02467245, -0.03189025, -0.001158305, -0.012431364, 0.008511678, -0.0061427425, 0.038486484, 0.04117572, -0.032296173, 0.01229817, -0.0018742182, -0.0035327903, -0.004239983, 0.0143087525, 0.030469526, 0.01675697, 0.0018076217, 0.01742928, -0.011156514, -0.008594131, -0.017543444, 0.017467333, 0.0050962246, -0.006459869, -0.025014946, 0.015666055, -0.0044651427, 0.01583096, -0.019471575, 0.009425003, -0.011784425, 0.00889223, -0.00082215073, 0.007655436, 0.0018758039, -0.026790855, -0.029353239, -0.015919756, -0.0048044682, -0.0074588177, 0.020245362, 0.03544207, -0.0024339468, -0.0031268683, -0.0043795183, 0.014422919, 0.00616177, 0.018317234, -0.015970496, -0.03163655, 0.009006396, -0.014296068, -0.013611075, 0.0072241444, -0.019915551, -0.025826791, 0.0044017173, 0.0066469735, 0.030520266, -0.012203032, -0.023137558, -0.012367938, -0.015348928, 0.022858486, -0.005397495, -0.032702096, -0.0042970655, -0.004645905, -0.028592136, 0.027704181, 0.014029682, -0.0065328083, -0.004205099, 0.010389068, -0.03534059, 0.0032600616, 0.022896541, -0.02459634, -0.026968447, -0.004877407, -0.022604784, -0.0062473943, -0.001054446, -0.017556129, 0.011600492, -0.027171409, -0.024266528, -0.0022500134, -0.0110740615, -0.004347806, 0.018837322, 0.006434499, -0.022769691, 0.01567874, -0.004877407, 0.024685135, 0.012431364, -0.023987457, -0.010071941, 0.021057207, 0.027298259, 0.01277386, -0.013370058, -0.0055370308, -0.020194622, 0.005397495, 0.030190453, 0.0149430055, 0.009444031, 0.016186142, -0.007541271, 0.0073002544, -0.027019188, 0.022021271, -0.032017104, -0.0016078319, -0.0041575297, 0.006031748, -0.0001387429, -0.019991662, 0.00041979636, 0.019420834, -0.038714815, 0.017340483, 0.023898661, -0.01229817, 0.022604784, 0.008657556, -0.0128436275, 0.0025956812, -0.020473694, 0.015285502, -0.005568743, 0.022274973, 0.02467245, 0.008949313, 0.015564574, 0.0016030751, -0.004119475, -0.023505425, 0.0032093213, 0.017074097, 0.017036041, 0.008479966, 0.00026519713, 0.007376365, -0.01082036, 0.014714675, -0.0013795007, 0.018063532, -0.0068943324, 0.0077632596, -0.014016996, 0.011638546, 0.011600492, 0.02932787, -0.005432379, -0.017226318, 0.00646304, -0.0017441964, -0.003513763, -0.024456805, 0.02767881, 0.007433448, -0.015120597, 0.020955727, 0.0050803684, 0.029251758, 0.025141798, 0.0040275077, 0.0030063603, 0.00889223, 0.010338328, 0.0186851, -0.00055853924, -0.0064059575, 0.013116357, 0.013179782, -0.020308789, -0.025649201, -0.005530688, 0.0020327815, -0.017543444, 0.020524435, 0.012989506, -0.03531522, 0.013623759, 0.018697785, 0.020334158, -0.021678776, -0.02739974, -0.006104687, 0.004135331, 0.003837232, 0.005194534, -0.027932512, -0.00031514457, -0.0032378626, 0.022287657, -0.00013160755, -0.004766413, 8.8052184e-05, -0.009545511, -0.009012738, -0.013446168, 0.020042403, -0.011207255, 0.00056527817, -0.028516024, 0.0083404295, -0.0005803417, -0.007262199, -0.0073700226, 0.026308823, -0.0006679479, -0.012964136, -0.0011043934, -0.00093790196, 0.019205188, -0.019788701, -0.014029682, -0.017378539, 0.013573019, 0.0025211566, -0.008955656, -0.020017032, -0.011315078, 0.028186213, 0.010084626, -0.013052931, -0.016287623, -0.006377416, 0.022655524, 0.08037257, 0.02074008, -0.018494824, 0.013382743, 0.019116392, -0.026968447, -0.022769691, -0.006377416, 0.027983252, -0.018126957, -0.0037801492, -0.00934255, 0.0059778364, -0.00789011, 0.024025513, -0.007376365, 0.003742094, -0.008448252, 0.002061323, 0.0016300308, -0.005407009, -0.0037706355, 0.00022515989, 0.012190347, -0.014207272, 0.003979939, -0.0024038197, 0.016858451, 0.028160842, -0.029632311, -0.0031649235, 0.007534928, 0.01578022, 0.0062727644, 0.021095263, 0.020524435, -0.0051913625, 0.014511714, 0.0329558, -0.03166192, 0.01179711, 0.007496873, 0.0045919935, 0.0048425235, 0.023936717, 0.00018294241, -0.017695665, 0.016566694, 0.005981008, -0.02970842, 0.036456876, -0.0052357605, -0.010458835, 0.0021723174, 0.005898555, 0.02554772, -0.019446203, -0.004338292, -0.012964136, 0.0016744285, -0.010363698, -0.020131197, -0.002717775, -0.009507456, -0.0017251688, -0.025484294, -0.011740027, -0.00849265, -0.0068372497, -0.015019116, -0.021653404, -0.018291863, -0.018900746, -0.010433465, 0.015082542, 0.030444155, 0.010325642, -0.0013271748, 0.004636391, 0.010579344, -0.016858451, -0.016059292, -0.0008498993, -0.026156602, 0.0026384934, 0.009773842, 0.01372524, -0.006478897, 0.012025441, 0.011930303, 0.010579344, 0.008657556, -0.010573002, 0.0057399916, 0.02256673, -0.010725222, 0.011955673, 0.034554116, 0.019078337, -0.005397495, 0.03318413, -0.01675697, 0.0008776479, 8.1957405e-05, 0.014511714, -0.007553956, 0.029962122, 0.0050581694, -0.020321473, -0.03328561, 0.031712662, -0.0057621906, 0.014866896, 0.012526501, 0.011004293, 0.015069856, 0.015589944, 0.011238967, -0.00012853538, -0.0097675, -0.00846728, -0.021374334, -0.0009822997, 0.029353239, -0.025484294, 0.021387018, -0.0041987565, -0.015513834, -0.0035201053, 0.0032077357, 0.011720999, 0.0073700226, 0.0016379589, -0.009780184, -0.04183534, -0.011238967, -0.0036723262, 0.012456734, -0.013509594, 0.0011694044, -0.030951558, -0.008746352, 0.012431364, -0.042850148, 0.019902866, -0.025636515, -0.0015420282, -0.014118477, -0.0023039249, 0.014029682, -0.01578022, -0.010503233, -0.024609026, -0.015792904, -0.0021707315, -0.03572114, 0.007909138, -0.015894385, 0.040516097, 0.018025476, 0.030088972, -0.0036120722, 0.0046998165, 0.024380693, -0.026816227, -0.0038435746, -0.0016680859, -0.003015874, -0.01642716, -0.007103636, 0.029632311, 0.0055814283, 0.026587894, 0.01881195, -0.017505389, 0.011137486, -0.0038943149, 0.008911258, -0.012203032, -0.016173458, 0.020080457, -0.005828787, 0.016224198, -0.007243172, -0.008689269, -0.00420827, 0.010465178, 0.032499135, 0.03726872, 0.006450355, 0.022186177, 0.0006576413, -0.0049566887, 0.004813982, -0.0034091112, -0.026943076, -0.0016744285, 0.010826702, 0.006313991, 0.026968447, -0.0011440342, 0.016135402, -0.012919738, 0.024190418, -0.0038055193, 0.005419694, -0.011524381, -0.011974701, -0.0012217303, -0.025864847, -0.010515918, -0.034833185, -0.01139753, -0.017137522, 0.006215682, 0.019573055, -0.011689287, 0.010541288, -0.014714675, -0.0376239, -0.0046078498, 0.0015991109, 0.04495587, -0.010408095, 0.007902795, 0.012012756, -0.0044017173, 0.001188432, 0.016262252, 0.012437706, 0.0048678936, -0.000680633, 0.018114273, -0.008594131, -0.005032799, -0.019966291, -0.00929181, -0.02439338, -0.010687167, 0.027957883, 0.0008011411, 0.0003642992, -0.008682926, -0.01765761, -0.00033912726, 0.011232625, -0.015171337, -0.00611103, -0.02462171, -4.697438e-05, -0.04183534, 0.009412318, -0.018964171, 0.0034598513, -0.030621745, -0.012608954, 0.0073953927, 0.015323558, -0.027704181, -0.006507438, -0.018748526, 0.012805573, -0.025129113, -0.0021199915, 0.013408113, 0.0029239072, -0.021945162, -0.019978976, -0.005933439, 0.025332073, -0.014042366, -0.016351048, -0.0061300574, 0.012602611, 0.016947245, -0.019776015, 0.00030107208, -0.028718986, -0.005004258, 0.0155772595, 0.02153924, -0.0011472055, -0.0041575297, 0.007293912, -0.009583566, 0.0025306703, 0.003922856, -0.014016996, 0.009919721, -0.019370094, -0.00062077533, -0.016909191, -0.0015380641, 0.0034979065, 0.020904986, 0.00032624402, -0.006970443, 0.024368009, -0.028439915, 0.01748002, -0.030723225, 0.0060951733, -0.025027633, 0.007813999, 0.010509576, 0.00646304, 0.014055052, -0.020093143, 0.0032568902, -0.025230594, -0.0052230754, -0.0036025583, 0.022871172, -0.024862727, 0.011245309, 0.0003555782, 0.0109852655, -0.03161118, -0.007909138, 0.03323487, 0.0014722603, 0.024888096, 0.03597484, -0.02434264, 0.007186089, 0.005543373, 0.009488428, 0.012190347, -0.022604784, -0.008048673, -0.009995831, 0.028313063, 0.003948226, -0.0112706795, -0.011600492, -0.0031236971, -0.016465213, 0.015551889, -0.023188299, -0.0029540344, 0.018063532, 0.0026860624, -0.026486415, 0.011010636, -0.013293947, -0.01229817, -0.013192467, -0.0050676833, -0.030215824, -0.019674536, -0.007636409, 0.0023784495, 0.013737924, -0.01164489, -0.02557309, -0.008727324, -0.0070021558, -0.0103954105, 0.026410304, 0.0037008675, 0.021107947, -0.022845801, 0.011340448, 0.013890145, -0.012976821, 0.030444155, -0.012704092, -0.009558196, -0.0064408416, -0.0021295052, -0.0023261236, -0.0010695095, -0.004468314, -0.01089647, 0.004598336, 0.021526555, 0.0108330455, 0.011238967, -0.00871464, -0.00012912998, -0.004224126, -0.019116392, 0.007579326, -0.008524363, 0.011175542, -0.026765486, -0.011359476, 0.0065137804, -0.011974701, -0.026410304, -0.0058826986, 0.017873256, -0.0057653617, 0.009621621, -0.022300344, -0.0049249763, -0.0109852655, -0.02945472, 0.013978941, -0.013002191, 0.02953083, 0.02472319, -0.011695629, -0.010186107, 0.00076387875, 0.0013168682, -0.013623759, -0.02151387, 0.007129006, -0.016997986, -0.0012264872, -0.02950546, 0.0019804556, -0.023099503, 0.006710399, -0.022021271, -0.015158652, -0.017403908, 0.02472319, -0.008460938, -0.021171372, -0.0020851074, -0.022287657, 0.0036057297, -0.0010718879, -0.010192449, 0.006742112, 0.0038752872, -0.017797146, -0.0065264655, -0.00012070632, -0.023302464, -0.012818257, 0.015348928, -0.007027526, 0.022084698, 0.20864394, -0.0018758039, 0.005407009, 0.036862798, -0.0105920285, 0.030139713, 0.02176757, -0.0037262377, -0.006472554, 0.025788736, -0.0026051952, 0.012907053, -0.02161535, 0.0052008764, 0.01485421, 0.00846728, -0.005445064, -0.0027685154, -0.014410233, -0.030317305, -0.014473659, -0.0063108196, -0.026841596, -0.0043446347, 0.010883785, 0.019281298, -0.008511678, -0.0008475209, 0.032676727, 0.018342603, -0.017391223, -0.0027986423, -0.011524381, 0.022554044, -0.014714675, 0.007858397, 0.016274938, 0.018215753, 0.01239965, -0.0038752872, 0.02068934, 0.001218559, -0.007566641, -0.015107912, 0.0019408149, 0.025357444, 0.017277058, 0.00088399043, -0.0120571535, 0.028236954, -0.03343783, 0.0010005345, 0.011670259, 0.030596375, -0.0025893387, 0.014816156, 0.023086818, 0.005530688, 0.013167097, 0.011619519, 0.0057526766, 0.03518837, -0.028262323, 0.0023625933, -0.00874001, 0.010693509, -0.010940868, 0.003827718, -0.008302375, 0.0053689536, -0.0095201405, -0.0058763563, -0.0014984233, 0.0056036273, -0.0038721159, -0.032245435, 0.012704092, 0.011771739, 0.006621604, 0.018520193, -0.020181937, 0.016249567, -0.007858397, -0.02071471, -0.014638565, -0.016351048, 0.009951433, -0.005112081, -0.030824706, 0.007148034, 0.0001969158, -0.032397654, 0.0044270875, -0.003003189, -0.0002057359, 0.0015015946, 0.010909155, 0.028439915, -0.0021374333, -0.009139589, -0.03143359, -0.053733934, 0.008511678, 0.004376347, 0.011790767, -0.009995831, 0.0057336492, -0.003055515, 0.0014730531, -0.010674481, -0.0042146128, 0.005445064, 0.0037516078, 0.0069641005, 0.011384846, -0.007782287, -0.0028588965, -0.019446203, -0.009501114, -0.004265353, 0.0070528956, -0.025255963, -0.022820432, 0.01164489, -0.0032600616, -0.020372214, 0.004220955, 0.011879562, -0.011765397, -0.036862798, 0.01675697, -0.019116392, 0.011638546, -0.0005367368, -0.006767482, 0.004991573, -0.010744249, -0.0143087525, 0.0071099787, 0.018469455, 0.010033886, 0.0068055373, -0.010585686, 0.016338363, 0.010553974, -0.032296173, 0.02297265, -0.009361577, -0.023403944, -0.017746406, -0.021260168, 0.0045444244, -0.005600456, -0.00081422256, 0.035822622, -0.0373702, -0.023124872, -0.028287694, 0.007902795, 0.013357373, -0.040313136, -0.007991591, 0.004097276, -0.008023303, -0.014410233, -0.019699905, -0.1614555, -0.0050993958, 0.014194587, 0.010173421, -0.0053689536, -0.011841508, 0.048533056, -0.016579378, -0.026435675, -0.006333018, 0.009602594, 0.0013287605, -0.04325607, 0.0011242138, -0.017277058, 0.003704039, -0.030368045, 0.013966256, 0.013991626, 0.0020692511, 0.012678722, -0.0075856685, 0.022630155, -0.0056543676, 0.0031379678, 0.022883857, -0.009044451, 0.009907035, -0.0052484456, -0.018647045, -0.02554772, -0.0128880255, -0.0033361719, -0.0140043115, 0.0038911435, 0.006491582, -0.008873203, 1.6649146e-05, -0.019332038, 0.030241193, 0.024241159, 0.045437902, 0.02983527, 0.009951433, -0.0046300483, 0.008638529, -0.0009973632, 0.017264374, 0.0036089008, -0.0011202497, -0.017150206, -0.012114236, 0.022528674, -0.0067865094, 0.006339361, 0.0014072494, -0.0054514064, 0.015374298, -0.010579344, 0.008264319, -0.019370094, -0.02752659, 0.0052516167, 0.003516934, -0.037826862, -0.013763295, -0.023416629, 0.026181974, -0.034148194, -0.011448271, -0.006342532, -0.0073192823, 0.008042331, 0.0080994135, -0.0053182133, 0.010668139, -0.017543444, 0.0022959968, 0.00092283846, 0.0019376436, -0.0055116606, 0.014410233, 0.00017650078, -0.0033932547, 0.0069387304, -0.0036501272, 0.0015008016, -0.00032961348, 0.0014793957, 0.0081438115, -0.005150136, -0.050334334, -0.0030967414, -0.017150206, 0.0049979156, 0.024685135, 0.012228402, 0.0056226547, 0.002164389, 0.007909138, -0.023302464, -0.014283382, -0.024913467, 0.0025401842, 0.008606817, 0.010534946, 0.019192502, 0.012647009, 0.024012826, -0.00045904078, -0.008378485, 0.02552235, 0.008885887, 0.028972687, -0.003098327, -0.00015618486, 0.0070592384, -0.0036628123, 0.00012249015, -0.0006433706, 0.06778898, 0.006577206, -0.024926152, -0.00420827, -0.0071543762, 0.025839476, -0.10604714, -0.030951558, 0.010477863, 0.007281227, -0.011143829, 0.020778136, -0.0049027773, 0.0017568815, 0.0037833205, 0.028110104, 0.011257995, 0.000167978, 0.0053404123, -0.027120668, 0.033158757, 0.005812931, 0.02778029, -0.006333018, -0.019382779, 0.019382779, -0.005575086, 0.0031601668, 0.0015158652, -0.022833116, -0.022934597, -0.0053911526, -0.028566765, 0.010135367, -0.0014326194, -0.003948226, 0.013814035, -0.012184004, 0.0032727467, -0.0026828912, 0.013192467, 0.016173458, -9.736778e-05, -0.0010235262, 0.013509594, -0.01292608, 0.0035708456, 0.006843592, 0.008105756, -0.016642805, 0.028059363, -0.006602576, 0.016274938, 0.014955691, -0.0043224357, -0.0039006574, -0.023391258, 0.0013620588, -0.022376454, -0.016186142, 0.03972962, 0.0061205435, 0.012190347, 0.023898661, 0.008759037, 0.025408184, 0.02053712, -0.013560334, -0.0036152434, 0.033919863, 0.028972687, -0.0023277092, -0.024101622, -0.004255839, 0.0045729657, -0.0034503376, -0.023683015, 0.0329558, -0.014384863, 0.022300344, -0.010674481, -0.0015190365, -0.0068372497, -0.04140405, 0.015539204, -0.011556094, -0.02256673, -0.02241451, -0.0006984714, -0.02449486, 0.03143359, 0.0073002544, -0.008346773, 0.019496944, -0.0048361807, 0.006199825, 0.0076681213, 0.009152274, 0.015513834, -0.048127133, -0.024368009, 0.013636445, 0.0032109069, -0.0065454934, -0.0018472625, 0.021374334, -0.014600509, -0.020562489, -0.021526555, 0.016236883, -0.022757005, -0.014296068, 0.017365852, 0.021932477, -0.016617434, -0.022427194, -0.0128880255, -0.008207236, -0.0158817, 0.009196672, -0.020651285, 0.0057843896, 0.008486308, -0.02367033, -0.0035835307, -0.009380605, 0.0023483227, 0.0068245647, 0.019699905, 0.0010132195, 0.02554772, -0.0007999519, -0.0113785025, 0.001948743, -0.006006378, 0.0139155155, -0.029962122, -0.01267238, -0.0048678936, -0.036000215, 0.0041733864, 0.017378539, 0.00343131, -0.015615314, 0.0046554185, -0.0054799477, 0.0028620677, 0.01981407, -0.006615261, -0.024355324, 0.0055370308, -0.035036147, -0.031940993, 0.0032917743, -0.0028715814, 0.006326676, 0.024203103, 0.00022714194, 0.019293983, 0.016325679, -0.010699851, -0.0153362425, -0.0031379678, -0.03333635, 0.009526484, -0.005638511, -0.0009172887, -0.032905057, 0.012837285, -0.0029825757, 0.007820343, 0.020181937, 0.01575485, -0.003015874, 0.0017267544, -0.024913467, 0.013040246, -0.026308823, -0.015019116, 0.020841561, -0.0030697857, 0.0035423043, 0.0054609203, 0.0026860624, -0.004125817, 0.001775909, -0.020042403, 0.006723084, 0.024786616, -0.012260115, -0.0068182223, 0.019839441, 0.016110031, 0.006326676, -0.02076545, -0.01760687, -0.00088399043, 0.023074131, -0.0083658, -0.0056067985, -0.0063932724, 0.0034979065, -0.01187322, 0.0019328867, -0.024482174, 0.011524381, -0.0039989664, 0.013763295, 0.0030666143, 0.00035835308, -0.010902813, -0.031179888, 0.00025627794, 0.005051827, -0.0069767856, -0.022186177, -0.0017600526, 0.00044833776, -0.00023962879, -0.016503269, -0.010167079, 0.013255892, -0.004731529, 0.030799337, 0.0037325802, -0.014296068, -0.03153507, 0.0334632, 0.019573055, -0.005375296, 0.020676656, -0.0063964436, 0.017061412, 0.0053816386, 0.011505353, -0.031230628, -0.02942935, 0.008010618, -0.0039735963, -0.0012510645, 0.00058747706, 0.003948226, -0.009900693, -0.02554772, 0.0120571535, 0.038029823, -0.008270662, 0.05677835, 0.030291934, -0.016262252, -0.0029175647, 0.0031823656, 0.013370058, 0.012685064, 0.016059292, -0.036659837, -0.015120597, 0.009596251, -0.0070528956, 0.019116392, -0.030571004, -0.01786057, -0.02745048, -0.03143359, -0.009431345, -0.007852055, -0.019940922, 0.025433553, 0.0014738459, 0.0056448537, -0.004813982, -0.018139642, -0.024456805, 0.03584799, 0.0011765397, -0.0020644942, -0.020600544, -0.004125817, -0.0021881736, -0.02046101, -0.014245328, 0.029124908, -0.001054446, 0.01660475, 0.01295145, 0.031814143, -0.0059144115, -0.016363733, 0.011778083, -0.0139155155, -0.008606817, 0.026131233, 0.03965351, -0.029124908, 0.01858362, -0.04132794]\n"
     ]
    }
   ],
   "source": [
    "text = 'the quick brown fox jumped over the lazy dog'\n",
    "model = 'text-embedding-ada-002'\n",
    "\n",
    "embed = openai.embeddings.create(\n",
    "          model=\"text-embedding-ada-002\",\n",
    "          input=text, encoding_format=\"float\"\n",
    ")\n",
    "\n",
    "#openai.Embedding().create(input=[text], engine='text-embedding-ada-002')[\"data\"][0][\"embedding\"]\n",
    "#print(embed)\n",
    "print(embed.data[0].embedding)"
   ]
  },
  {
   "cell_type": "code",
   "execution_count": 37,
   "metadata": {
    "gather": {
     "logged": 1674829555255
    },
    "jupyter": {
     "outputs_hidden": false,
     "source_hidden": false
    },
    "nteract": {
     "transient": {
      "deleting": false
     }
    }
   },
   "outputs": [
    {
     "name": "stdout",
     "output_type": "stream",
     "text": [
      "[[0.91617626]]\n",
      "[[0.83344297]]\n",
      "[[0.78203585]]\n"
     ]
    }
   ],
   "source": [
    "# compare several words\n",
    "automobile_embedding    = openai.embeddings.create(input='automobile', model=model).data[0].embedding\n",
    "vehicle_embedding       = openai.embeddings.create(input='vehicle', model=model).data[0].embedding\n",
    "dinosaur_embedding      = openai.embeddings.create(input='dinosaur', model=model).data[0].embedding\n",
    "stick_embedding         = openai.embeddings.create(input='stick', model=model).data[0].embedding\n",
    "\n",
    "from sklearn.metrics.pairwise import cosine_similarity\n",
    "\n",
    "print(cosine_similarity([automobile_embedding], [vehicle_embedding]))\n",
    "print(cosine_similarity([automobile_embedding], [dinosaur_embedding]))\n",
    "print(cosine_similarity([automobile_embedding], [stick_embedding]))"
   ]
  },
  {
   "cell_type": "markdown",
   "metadata": {
    "nteract": {
     "transient": {
      "deleting": false
     }
    }
   },
   "source": [
    "## Comparing article from cnn daily news dataset\n",
    "source: https://huggingface.co/datasets/cnn_dailymail\n"
   ]
  },
  {
   "cell_type": "code",
   "execution_count": 38,
   "metadata": {
    "gather": {
     "logged": 1674831122093
    },
    "jupyter": {
     "outputs_hidden": false,
     "source_hidden": false
    },
    "nteract": {
     "transient": {
      "deleting": false
     }
    }
   },
   "outputs": [
    {
     "data": {
      "text/html": [
       "<div>\n",
       "<style scoped>\n",
       "    .dataframe tbody tr th:only-of-type {\n",
       "        vertical-align: middle;\n",
       "    }\n",
       "\n",
       "    .dataframe tbody tr th {\n",
       "        vertical-align: top;\n",
       "    }\n",
       "\n",
       "    .dataframe thead th {\n",
       "        text-align: right;\n",
       "    }\n",
       "</style>\n",
       "<table border=\"1\" class=\"dataframe\">\n",
       "  <thead>\n",
       "    <tr style=\"text-align: right;\">\n",
       "      <th></th>\n",
       "      <th>articles</th>\n",
       "      <th>highligths</th>\n",
       "    </tr>\n",
       "  </thead>\n",
       "  <tbody>\n",
       "    <tr>\n",
       "      <th>0</th>\n",
       "      <td>BREMEN, Germany -- Carlos Alberto, who scored ...</td>\n",
       "      <td>Werder Bremen pay a club record $10.7 million ...</td>\n",
       "    </tr>\n",
       "    <tr>\n",
       "      <th>1</th>\n",
       "      <td>(CNN) -- Football superstar, celebrity, fashio...</td>\n",
       "      <td>Beckham has agreed to a five-year contract wit...</td>\n",
       "    </tr>\n",
       "    <tr>\n",
       "      <th>2</th>\n",
       "      <td>LOS ANGELES, California (CNN) -- Youssif, the ...</td>\n",
       "      <td>Boy on meeting Spider-Man: \"It was my favorite...</td>\n",
       "    </tr>\n",
       "  </tbody>\n",
       "</table>\n",
       "</div>"
      ],
      "text/plain": [
       "                                            articles  \\\n",
       "0  BREMEN, Germany -- Carlos Alberto, who scored ...   \n",
       "1  (CNN) -- Football superstar, celebrity, fashio...   \n",
       "2  LOS ANGELES, California (CNN) -- Youssif, the ...   \n",
       "\n",
       "                                          highligths  \n",
       "0  Werder Bremen pay a club record $10.7 million ...  \n",
       "1  Beckham has agreed to a five-year contract wit...  \n",
       "2  Boy on meeting Spider-Man: \"It was my favorite...  "
      ]
     },
     "execution_count": 38,
     "metadata": {},
     "output_type": "execute_result"
    }
   ],
   "source": [
    "import pandas as pd\n",
    "cnn_daily_articles = ['BREMEN, Germany -- Carlos Alberto, who scored in FC Porto\\'s Champions League final victory against Monaco in 2004, has joined Bundesliga club Werder Bremen for a club record fee of 7.8 million euros ($10.7 million). Carlos Alberto enjoyed success at FC Porto under Jose Mourinho. \"I\\'m here to win titles with Werder,\" the 22-year-old said after his first training session with his new club. \"I like Bremen and would only have wanted to come here.\" Carlos Alberto started his career with Fluminense, and helped them to lift the Campeonato Carioca in 2002. In January 2004 he moved on to FC Porto, who were coached by José Mourinho, and the club won the Portuguese title as well as the Champions League. Early in 2005, he moved to Corinthians, where he impressed as they won the Brasileirão,but in 2006 Corinthians had a poor season and Carlos Alberto found himself at odds with manager, Emerson Leão. Their poor relationship came to a climax at a Copa Sul-Americana game against Club Atlético Lanús, and Carlos Alberto declared that he would not play for Corinthians again while Leão remained as manager. Since January this year he has been on loan with his first club Fluminense. Bundesliga champions VfB Stuttgart said on Sunday that they would sign a loan agreement with Real Zaragoza on Monday for Ewerthon, the third top Brazilian player to join the German league in three days. A VfB spokesman said Ewerthon, who played in the Bundesliga for Borussia Dortmund from 2001 to 2005, was expected to join the club for their pre-season training in Austria on Monday. On Friday, Ailton returned to Germany where he was the league\\'s top scorer in 2004, signing a one-year deal with Duisburg on a transfer from Red Star Belgrade. E-mail to a friend .',\n",
    "                        '(CNN) -- Football superstar, celebrity, fashion icon, multimillion-dollar heartthrob. Now, David Beckham is headed for the Hollywood Hills as he takes his game to U.S. Major League Soccer. CNN looks at how Bekham fulfilled his dream of playing for Manchester United, and his time playing for England. The world\\'s famous footballer has begun a five-year contract with the Los Angeles Galaxy team, and on Friday Beckham will meet the press and reveal his new shirt number. This week, we take an in depth look at the life and times of Beckham, as CNN\\'s very own \"Becks,\" Becky Anderson, sets out to examine what makes the man tick -- as footballer, fashion icon and global phenomenon. It\\'s a long way from the streets of east London to the Hollywood Hills and Becky charts Beckham\\'s incredible rise to football stardom, a journey that has seen his skills grace the greatest stages in world soccer. She goes in pursuit of the current hottest property on the sports/celebrity circuit in the U.S. and along the way explores exactly what\\'s behind the man with the golden boot. CNN will look back at the life of Beckham, the wonderfully talented youngster who fulfilled his dream of playing for Manchester United, his marriage to pop star Victoria, and the trials and tribulations of playing for England. We\\'ll look at the highs (scoring against Greece), the lows (being sent off during the World Cup), the Man. U departure for the Galacticos of Madrid -- and now the Home Depot stadium in L.A. We\\'ll ask how Beckham and his family will adapt to life in Los Angeles -- the people, the places to see and be seen and the celebrity endorsement. Beckham is no stranger to exposure. He has teamed with Reggie Bush in an Adidas commercial, is the face of Motorola, is the face on a PlayStation game and doesn\\'t need fashion tips as he has his own international clothing line. But what does the star couple need to do to become an accepted part of Tinseltown\\'s glitterati? The road to major league football in the U.S.A. is a well-worn route for some of the world\\'s greatest players. We talk to some of the former greats who came before him and examine what impact these overseas stars had on U.S. soccer and look at what is different now. We also get a rare glimpse inside the David Beckham academy in L.A, find out what drives the kids and who are their heroes. The perception that in the U.S.A. soccer is a \"game for girls\" after the teenage years is changing. More and more young kids are choosing the European game over the traditional U.S. sports. E-mail to a friend .',\n",
    "                        'LOS ANGELES, California (CNN) -- Youssif, the 5-year-old burned Iraqi boy, rounded the corner at Universal Studios when suddenly the little boy hero met his favorite superhero. Youssif has always been a huge Spider-Man fan. Meeting him was \"my favorite thing,\" he said. Spider-Man was right smack dab in front of him, riding a four-wheeler amid a convoy of other superheroes. The legendary climber of buildings and fighter of evil dismounted, walked over to Youssif and introduced himself. Spidey then gave the boy from a far-away land a gentle hug, embracing him in his iconic blue and red tights. He showed Youssif a few tricks, like how to shoot a web from his wrist. Only this time, no web was spun. \"All right Youssif!\" Spider-Man said after the boy mimicked his wrist movement. Other superheroes crowded around to get a closer look. Even the Green Goblin stopped his villainous ways to tell the boy hi. Youssif remained unfazed. He didn\\'t take a liking to Spider-Man\\'s nemesis. Spidey was just too cool. \"It was my favorite thing,\" the boy said later. \"I want to see him again.\" He then felt compelled to add: \"I know it\\'s not the real Spider-Man.\" This was the day of dreams when the boy\\'s nightmares were, at least temporarily, forgotten. He met SpongeBob, Lassie and a 3-year-old orangutan named Archie. The hairy, brownish-red primate took to the boy, grabbing his hand and holding it. Even when Youssif pulled away, Archie would inch his hand back toward the boy\\'s and then snatch it. See Youssif enjoy being a boy again » . The boy giggled inside a play area where sponge-like balls shot out of toy guns. It was a far different artillery than what he was used to seeing in central Baghdad, as recently as a week ago. He squealed with delight and raced around the room collecting as many balls as he could. He rode a tram through the back stages at Universal Studios. At one point, the car shook. Fire and smoke filled the air, debris cascaded down and a big rig skidded toward the vehicle. The boy and his family survived the pretend earthquake unscathed. \"Even I was scared,\" the dad said. \"Well, I wasn\\'t,\" Youssif replied. The father and mother grinned from ear to ear throughout the day. Youssif pushed his 14-month-old sister, Ayaa, in a stroller. \"Did you even need to ask us if we were interested in coming here?\" Youssif\\'s father said in amazement. \"Other than my wedding day, this is the happiest day of my life,\" he said. Just a day earlier, the mother and father talked about their journey out of Iraq and to the United States. They also discussed that day nine months ago when masked men grabbed their son outside the family home, doused him in gas and set him on fire. His mother heard her boy screaming from inside. The father sought help for his boy across Baghdad, but no one listened. He remembers his son\\'s two months of hospitalization. The doctors didn\\'t use anesthetics. He could hear his boy\\'s piercing screams from the other side of the hospital. Watch Youssif meet his doctor and play with his little sister » . The father knew that speaking to CNN would put his family\\'s lives in jeopardy. The possibility of being killed was better than seeing his son suffer, he said. \"Anything for Youssif,\" he said. \"We had to do it.\" They described a life of utter chaos in Baghdad. Neighbors had recently given birth to a baby girl. Shortly afterward, the father was kidnapped and killed. Then, there was the time when some girls wore tanktops and jeans. They were snatched off the street by gunmen. The stories can be even more gruesome. The couple said they had heard reports that a young girl was kidnapped and beheaded --and her killers sewed a dog\\'s head on the corpse and delivered it to her family\\'s doorstep. \"These are just some of the stories,\" said Youssif\\'s mother, Zainab. Under Saddam Hussein, there was more security and stability, they said. There was running water and electricity most of the time. But still life was tough under the dictator, like the time when Zainab\\'s uncle disappeared and was never heard from again after he read a \"religious book,\" she said. Sitting in the parking lot of a Target in suburban Los Angeles, Youssif\\'s father watched as husbands and wives, boyfriends and girlfriends, parents and their children, came and went. Some held hands. Others smiled and laughed. \"Iraq finished,\" he said in what few English words he knows. He elaborated in Arabic: His homeland won\\'t be enjoying such freedoms anytime soon. It\\'s just not possible. Too much violence. Too many killings. His two children have only seen war. But this week, the family has seen a much different side of America -- an outpouring of generosity and a peaceful nation at home. \"It\\'s been a dream,\" the father said. He used to do a lot of volunteer work back in Baghdad. \"Maybe that\\'s why I\\'m being helped now,\" the father said. At Universal Studios, he looked out across the valley below. The sun glistened off treetops and buildings. It was a picturesque sight fit for a Hollywood movie. \"Good America, good America,\" he said in English. E-mail to a friend . CNN\\'s Arwa Damon contributed to this report.'\n",
    "]\n",
    "\n",
    "cnn_daily_article_highlights = ['Werder Bremen pay a club record $10.7 million for Carlos Alberto .\\nThe Brazilian midfielder won the Champions League with FC Porto in 2004 .\\nSince January he has been on loan with his first club, Fluminense .',\n",
    "                                'Beckham has agreed to a five-year contract with Los Angeles Galaxy .\\nNew contract took effect July 1, 2007 .\\nFormer English captain to meet press, unveil new shirt number Friday .\\nCNN to look at Beckham as footballer, fashion icon and global phenomenon .',\n",
    "                                'Boy on meeting Spider-Man: \"It was my favorite thing\"\\nYoussif also met SpongeBob, Lassie and an orangutan at Universal Studios .\\nDad: \"Other than my wedding day, this is the happiest day of my life\"' \n",
    "]\n",
    "\n",
    "cnn_df = pd.DataFrame({\"articles\":cnn_daily_articles, \"highligths\":cnn_daily_article_highlights})\n",
    "\n",
    "cnn_df.head()                      "
   ]
  },
  {
   "cell_type": "code",
   "execution_count": 40,
   "metadata": {
    "gather": {
     "logged": 1674831294043
    },
    "jupyter": {
     "outputs_hidden": false,
     "source_hidden": false
    },
    "nteract": {
     "transient": {
      "deleting": false
     }
    }
   },
   "outputs": [
    {
     "name": "stdout",
     "output_type": "stream",
     "text": [
      "[[0.76212543]]\n",
      "[[0.71032348]]\n"
     ]
    }
   ],
   "source": [
    "article1_embedding    = openai.embeddings.create(input=cnn_df.articles.iloc[0], model=model).data[0].embedding\n",
    "article2_embedding    = openai.embeddings.create(input=cnn_df.articles.iloc[1], model=model).data[0].embedding\n",
    "article3_embedding    = openai.embeddings.create(input=cnn_df.articles.iloc[2], model=model).data[0].embedding\n",
    "\n",
    "print(cosine_similarity([article1_embedding], [article2_embedding]))\n",
    "print(cosine_similarity([article1_embedding], [article3_embedding]))"
   ]
  },
  {
   "cell_type": "markdown",
   "metadata": {
    "nteract": {
     "transient": {
      "deleting": false
     }
    }
   },
   "source": [
    "# References  \n",
    "- [Azure Documentation - Azure Open AI Models](https://learn.microsoft.com/azure/cognitive-services/openai/concepts/models?WT.mc_id=academic-105485-koreyst)  \n",
    "- [OpenAI Studio Examples](https://oai.azure.com/portal?WT.mc_id=academic-105485-koreyst)  "
   ]
  },
  {
   "cell_type": "markdown",
   "metadata": {
    "nteract": {
     "transient": {
      "deleting": false
     }
    }
   },
   "source": [
    "# For More Help  \n",
    "[OpenAI Commercialization Team](AzureOpenAITeam@microsoft.com)  \n",
    "AI Specialized CSAs [aka.ms/airangers](https://aka.ms/airangers?WT.mc_id=academic-105485-koreyst)"
   ]
  },
  {
   "cell_type": "markdown",
   "metadata": {
    "nteract": {
     "transient": {
      "deleting": false
     }
    }
   },
   "source": [
    "# Contributors\n",
    "* Louis Li  \n"
   ]
  }
 ],
 "metadata": {
  "kernel_info": {
   "name": "python310-sdkv2"
  },
  "kernelspec": {
   "display_name": "Python 3 (ipykernel)",
   "language": "python",
   "name": "python3"
  },
  "language_info": {
   "codemirror_mode": {
    "name": "ipython",
    "version": 3
   },
   "file_extension": ".py",
   "mimetype": "text/x-python",
   "name": "python",
   "nbconvert_exporter": "python",
   "pygments_lexer": "ipython3",
   "version": "3.10.4"
  },
  "microsoft": {
   "host": {
    "AzureML": {
     "notebookHasBeenCompleted": true
    }
   }
  },
  "nteract": {
   "version": "nteract-front-end@1.0.0"
  }
 },
 "nbformat": 4,
 "nbformat_minor": 2
}
